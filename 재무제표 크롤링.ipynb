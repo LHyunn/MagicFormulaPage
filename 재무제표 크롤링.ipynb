{
 "cells": [
  {
   "cell_type": "code",
   "execution_count": 1,
   "metadata": {},
   "outputs": [],
   "source": [
    "import pandas as pd\n",
    "import os\n",
    "from tqdm import tqdm\n",
    "from modules import public_stock\n",
    "from natsort import natsorted\n",
    "from glob import glob"
   ]
  },
  {
   "cell_type": "code",
   "execution_count": 2,
   "metadata": {},
   "outputs": [],
   "source": [
    "def preprocess_financial_statement_1(df_path):\n",
    "    df = pd.read_csv(df_path, skiprows=1)\n",
    "    df = df.T\n",
    "    df.columns = df.iloc[1]\n",
    "    df = df[2:]\n",
    "    return df"
   ]
  },
  {
   "cell_type": "code",
   "execution_count": 3,
   "metadata": {},
   "outputs": [],
   "source": [
    "def preprocess_financial_statement_2(df):\n",
    "    df = df.T\n",
    "    df.columns = df.iloc[0]\n",
    "    df = df[1:-2]\n",
    "    df.columns = df.columns.str.replace('계산에 참여한 계정 펼치기', '')\n",
    "    return df"
   ]
  },
  {
   "attachments": {},
   "cell_type": "markdown",
   "metadata": {},
   "source": [
    "# 재무재표 크롤링"
   ]
  },
  {
   "cell_type": "code",
   "execution_count": 4,
   "metadata": {},
   "outputs": [
    {
     "name": "stderr",
     "output_type": "stream",
     "text": [
      " 95%|█████████▍| 2243/2373 [1:00:15<03:49,  1.77s/it]"
     ]
    }
   ],
   "source": [
    "error_list = []\n",
    "stock_code_list = natsorted(public_stock.get_stock_list(\"ALL\"))\n",
    "for stock_code in tqdm(stock_code_list):\n",
    "    try:\n",
    "        if os.path.exists(f\"/app/Data/Info/Sort By Stock Code/{stock_code}\"):\n",
    "            pass\n",
    "        else:   \n",
    "            os.makedirs(f\"/app/Data/Info/Sort By Stock Code/{stock_code}\")\n",
    "            \n",
    "        \n",
    "        \n",
    "        tables = pd.read_html(f\"https://comp.fnguide.com/SVO2/ASP/SVD_main.asp?pGB=1&gicode=A{stock_code}&cID=&MenuYn=Y&ReportGB=&NewMenuID=11&stkGb=&strResearchYN=\")\n",
    "        tables[11].to_csv(f\"/app/Data/Info/Sort By Stock Code/{stock_code}/재무제표-연결-연간.csv\")\n",
    "        preprocess_financial_statement_1(f\"/app/Data/Info/Sort By Stock Code/{stock_code}/재무제표-연결-연간.csv\").to_csv(f\"/app/Data/Info/Sort By Stock Code/{stock_code}/재무제표-연결-연간.csv\")\n",
    "        tables[12].to_csv(f\"/app/Data/Info/Sort By Stock Code/{stock_code}/재무제표-연결-분기.csv\")\n",
    "        preprocess_financial_statement_1(f\"/app/Data/Info/Sort By Stock Code/{stock_code}/재무제표-연결-분기.csv\").to_csv(f\"/app/Data/Info/Sort By Stock Code/{stock_code}/재무제표-연결-분기.csv\")\n",
    "        tables[14].to_csv(f\"/app/Data/Info/Sort By Stock Code/{stock_code}/재무제표-별도-연간.csv\")\n",
    "        preprocess_financial_statement_1(f\"/app/Data/Info/Sort By Stock Code/{stock_code}/재무제표-별도-연간.csv\").to_csv(f\"/app/Data/Info/Sort By Stock Code/{stock_code}/재무제표-별도-연간.csv\")\n",
    "        tables[15].to_csv(f\"/app/Data/Info/Sort By Stock Code/{stock_code}/재무제표-별도-분기.csv\")\n",
    "        preprocess_financial_statement_1(f\"/app/Data/Info/Sort By Stock Code/{stock_code}/재무제표-별도-분기.csv\").to_csv(f\"/app/Data/Info/Sort By Stock Code/{stock_code}/재무제표-별도-분기.csv\")\n",
    "        tables = pd.read_html(f\"https://comp.fnguide.com/SVO2/ASP/SVD_Finance.asp?pGB=1&gicode=A{stock_code}&cID=&MenuYn=Y&ReportGB=&NewMenuID=103&stkGb=701\")\n",
    "        preprocess_financial_statement_2(tables[0]).to_csv(f\"/app/Data/Info/Sort By Stock Code/{stock_code}/포괄손익계산서-연결-연간.csv\")\n",
    "        preprocess_financial_statement_2(tables[1]).to_csv(f\"/app/Data/Info/Sort By Stock Code/{stock_code}/포괄손익계산서-연결-분기.csv\")\n",
    "        preprocess_financial_statement_2(tables[2]).to_csv(f\"/app/Data/Info/Sort By Stock Code/{stock_code}/재무상태표-연결-연간.csv\")\n",
    "        preprocess_financial_statement_2(tables[3]).to_csv(f\"/app/Data/Info/Sort By Stock Code/{stock_code}/재무상태표-연결-분기.csv\")\n",
    "        \n",
    "        tables = pd.read_html(f\"https://comp.fnguide.com/SVO2/ASP/SVD_Finance.asp?pGB=1&gicode=A{stock_code}&cID=&MenuYn=Y&ReportGB=B&NewMenuID=103&stkGb=701\")\n",
    "        preprocess_financial_statement_2(tables[0]).to_csv(f\"/app/Data/Info/Sort By Stock Code/{stock_code}/포괄손익계산서-별도-연간.csv\")\n",
    "        preprocess_financial_statement_2(tables[1]).to_csv(f\"/app/Data/Info/Sort By Stock Code/{stock_code}/포괄손익계산서-별도-분기.csv\")\n",
    "        preprocess_financial_statement_2(tables[2]).to_csv(f\"/app/Data/Info/Sort By Stock Code/{stock_code}/재무상태표-별도-연간.csv\")\n",
    "        preprocess_financial_statement_2(tables[3]).to_csv(f\"/app/Data/Info/Sort By Stock Code/{stock_code}/재무상태표-별도-분기.csv\")\n",
    "        \n",
    "        \n",
    "    except Exception as e:\n",
    "        print(e)\n",
    "        error_list.append(stock_code)    "
   ]
  },
  {
   "cell_type": "code",
   "execution_count": null,
   "metadata": {},
   "outputs": [],
   "source": [
    "#error_list를 txt파일로 저장\n",
    "with open(\"/app/Data/log/재무제표 로드 오류.txt\", \"w\") as f:\n",
    "    for error in error_list:\n",
    "        f.write(error + \"\\n\")\n",
    "        "
   ]
  },
  {
   "attachments": {},
   "cell_type": "markdown",
   "metadata": {},
   "source": [
    "# 재무재표 정리"
   ]
  },
  {
   "cell_type": "code",
   "execution_count": null,
   "metadata": {},
   "outputs": [],
   "source": [
    "#별도 = [매출액,영업이익,영업이익(발표기준),당기순이익,자산총계,부채총계,자본총계,자본금,부채비율,유보율,영업이익률,순이익률,ROA,ROE,EPS(원),BPS(원),DPS(원),PER,PBR,발행주식수,배당수익률]\n",
    "재무_별도 = ['매출액','영업이익','영업이익(발표기준)','당기순이익','자산총계','부채총계','자본총계','자본금','부채비율','유보율','영업이익률','순이익률','ROA','ROE','EPS(원)','BPS(원)','DPS(원)','PER','PBR','발행주식수','배당수익률']\n",
    "#연결 = [매출액,영업이익,영업이익(발표기준),당기순이익,지배주주순이익,비지배주주순이익,자산총계,부채총계,자본총계,지배주주지분,비지배주주지분,자본금,부채비율,유보율,영업이익률,지배주주순이익률,ROA,ROE,EPS(원),BPS(원),DPS(원),PER,PBR,발행주식수,배당수익률]\n",
    "재무_연결 = ['매출액','영업이익','영업이익(발표기준)','당기순이익','지배주주순이익','비지배주주순이익','자산총계','부채총계','자본총계','지배주주지분','비지배주주지분','자본금','부채비율','유보율','영업이익률','지배주주순이익률','ROA','ROE','EPS(원)','BPS(원)','DPS(원)','PER','PBR','발행주식수','배당수익률']\n",
    "#포괄_별도 = [매출액,매출원가,매출총이익,판매비와관리비,영업이익,영업이익(발표기준),금융수익,금융원가,기타수익,기타비용,\"종속기업,공동지배기업및관계기업관련손익\",세전계속사업이익,법인세비용,계속영업이익,중단영업이익,당기순이익]\n",
    "포괄_별도 = ['매출액','매출원가','매출총이익','판매비와관리비','영업이익','영업이익(발표기준)','금융수익','금융원가','기타수익','기타비용','종속기업,공동지배기업및관계기업관련손익','세전계속사업이익','법인세비용','계속영업이익','중단영업이익','당기순이익']\n",
    "#포괄_연결 = 매출액,매출원가,매출총이익,판매비와관리비,영업이익,영업이익(발표기준),금융수익,금융원가,기타수익,기타비용,\"종속기업,공동지배기업및관계기업관련손익\",세전계속사업이익,법인세비용,계속영업이익,중단영업이익,당기순이익,지배주주순이익,비지배주주순이익\n",
    "포괄_연결 = ['매출액','매출원가','매출총이익','판매비와관리비','영업이익','영업이익(발표기준)','금융수익','금융원가','기타수익','기타비용','종속기업,공동지배기업및관계기업관련손익','세전계속사업이익','법인세비용','계속영업이익','중단영업이익','당기순이익','지배주주순이익','비지배주주순이익']"
   ]
  },
  {
   "cell_type": "code",
   "execution_count": null,
   "metadata": {},
   "outputs": [],
   "source": [
    "def save_df_by_year(path):\n",
    "    csv_cache = {}\n",
    "    for i in tqdm(range(len(path))):\n",
    "        stock_code = path[i].split(\"/\")[-2]\n",
    "        csv_cache[stock_code] = pd.read_csv(path[i], index_col=0)\n",
    "        \n",
    "    year = csv_cache[\"005930\"].index.tolist()\n",
    "\n",
    "    df_list = {}\n",
    "    for i in year:\n",
    "        df_list[i] = pd.DataFrame(columns=포괄_별도)\n",
    "\n",
    "    for i in tqdm(csv_cache.keys()):\n",
    "        for j in year:\n",
    "            try:\n",
    "                df_list[j].loc[i] = csv_cache[i].loc[j]\n",
    "            except:\n",
    "                pass\n",
    "    return df_list, year"
   ]
  },
  {
   "cell_type": "code",
   "execution_count": null,
   "metadata": {},
   "outputs": [],
   "source": [
    "#재무제표_별도_분기\n",
    "path = glob(\"/app/Data/Info/Sort By Stock Code/**/재무제표-별도-분기.csv\")\n",
    "df_list, year = save_df_by_year(path)   \n",
    "for i in year:\n",
    "    df_list[i].to_csv(\"/app/Data/Info/Sort By Time/분기/별도/{}-재무제표-별도-분기.csv\".format(i.replace(\"/\",\"-\")))\n",
    "    "
   ]
  },
  {
   "cell_type": "code",
   "execution_count": null,
   "metadata": {},
   "outputs": [],
   "source": [
    "#재무제표_연결_분기\n",
    "path = glob(\"/app/Data/Info/Sort By Stock Code/**/재무제표-연결-분기.csv\")\n",
    "df_list, year = save_df_by_year(path)      \n",
    "for i in year:\n",
    "    df_list[i].to_csv(\"/app/Data/Info/Sort By Time/분기/연결/{}-재무제표-연결-분기.csv\".format(i.replace(\"/\",\"-\")))"
   ]
  },
  {
   "cell_type": "code",
   "execution_count": null,
   "metadata": {},
   "outputs": [],
   "source": [
    "#재무제표_별도_연간\n",
    "path = glob(\"/app/Data/Info/Sort By Stock Code/**/재무제표-별도-연간.csv\")\n",
    "df_list, year = save_df_by_year(path)     \n",
    "        \n",
    "for i in year:\n",
    "    df_list[i].to_csv(\"/app/Data/Info/Sort By Time/연간/별도/{}-재무제표-별도-연간.csv\".format(i.replace(\"/\",\"-\")))"
   ]
  },
  {
   "cell_type": "code",
   "execution_count": null,
   "metadata": {},
   "outputs": [],
   "source": [
    "#재무제표_연결_연간\n",
    "path = glob(\"/app/Data/Info/Sort By Stock Code/**/재무제표-연결-연간.csv\")\n",
    "df_list, year = save_df_by_year(path)     \n",
    "for i in year:\n",
    "    df_list[i].to_csv(\"/app/Data/Info/Sort By Time/연간/연결/{}-재무제표-연결-연간.csv\".format(i.replace(\"/\",\"-\")))"
   ]
  },
  {
   "cell_type": "code",
   "execution_count": null,
   "metadata": {},
   "outputs": [],
   "source": [
    "#포괄손익계산서_별도_분기\n",
    "path = glob(\"/app/Data/Info/Sort By Stock Code/**/포괄손익계산서-별도-분기.csv\")\n",
    "df_list, year = save_df_by_year(path)     \n",
    "for i in year:\n",
    "    df_list[i].to_csv(\"/app/Data/Info/Sort By Time/분기/별도/{}-포괄손익계산서-별도-분기.csv\".format(i.replace(\"/\",\"-\")))"
   ]
  },
  {
   "cell_type": "code",
   "execution_count": null,
   "metadata": {},
   "outputs": [],
   "source": [
    "#포괄손익계산서_연결_분기\n",
    "path = glob(\"/app/Data/Info/Sort By Stock Code/**/포괄손익계산서-연결-분기.csv\")\n",
    "df_list, year = save_df_by_year(path)     \n",
    "        \n",
    "for i in year:\n",
    "    df_list[i].to_csv(\"/app/Data/Info/Sort By Time/분기/연결/{}-포괄손익계산서-연결-분기.csv\".format(i.replace(\"/\",\"-\")))"
   ]
  },
  {
   "cell_type": "code",
   "execution_count": null,
   "metadata": {},
   "outputs": [],
   "source": [
    "#포괄손익계산서_별도_연간\n",
    "path = glob(\"/app/Data/Info/Sort By Stock Code/**/포괄손익계산서-별도-연간.csv\")\n",
    "df_list, year = save_df_by_year(path)     \n",
    "        \n",
    "for i in year:\n",
    "    df_list[i].to_csv(\"/app/Data/Info/Sort By Time/연간/별도/{}-포괄손익계산서-별도-연간.csv\".format(i.replace(\"/\",\"-\")))"
   ]
  },
  {
   "cell_type": "code",
   "execution_count": null,
   "metadata": {},
   "outputs": [],
   "source": [
    "#포괄손익계산서_연결_연간\n",
    "path = glob(\"/app/Data/Info/Sort By Stock Code/**/포괄손익계산서-연결-연간.csv\")\n",
    "df_list, year = save_df_by_year(path)     \n",
    "for i in year:\n",
    "    df_list[i].to_csv(\"/app/Data/Info/Sort By Time/연간/연결/{}-포괄손익계산서-연결-연간.csv\".format(i.replace(\"/\",\"-\")))"
   ]
  },
  {
   "cell_type": "code",
   "execution_count": null,
   "metadata": {},
   "outputs": [],
   "source": []
  }
 ],
 "metadata": {
  "kernelspec": {
   "display_name": "Python 3",
   "language": "python",
   "name": "python3"
  },
  "language_info": {
   "codemirror_mode": {
    "name": "ipython",
    "version": 3
   },
   "file_extension": ".py",
   "mimetype": "text/x-python",
   "name": "python",
   "nbconvert_exporter": "python",
   "pygments_lexer": "ipython3",
   "version": "3.11.2"
  },
  "orig_nbformat": 4,
  "vscode": {
   "interpreter": {
    "hash": "949777d72b0d2535278d3dc13498b2535136f6dfe0678499012e853ee9abcab1"
   }
  }
 },
 "nbformat": 4,
 "nbformat_minor": 2
}
